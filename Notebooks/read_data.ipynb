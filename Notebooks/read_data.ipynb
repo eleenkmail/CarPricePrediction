{
 "cells": [
  {
   "cell_type": "code",
   "execution_count": 19,
   "metadata": {},
   "outputs": [],
   "source": [
    "# import libraries\n",
    "import pandas as pd\n",
    "from bs4 import BeautifulSoup\n",
    "import os, glob\n",
    "import numpy as np\n"
   ]
  },
  {
   "cell_type": "code",
   "execution_count": 20,
   "metadata": {},
   "outputs": [],
   "source": [
    "# create car class \n",
    "class Car:\n",
    "    name : str = np.nan\n",
    "    year : int = np.nan\n",
    "    insurance : float = np.nan\n",
    "    price : float = np.nan\n",
    "    color : str = np.nan\n",
    "    fueil : str = np.nan\n",
    "    prevـuse : str = np.nan\n",
    "    license  : str = np.nan\n",
    "    gear  : str = np.nan\n",
    "    glass : str = np.nan\n",
    "    engine : float = np.nan\n",
    "    meter  : float = np.nan\n",
    "    weel_drive : str = np.nan\n",
    "    payment  : str = np.nan\n",
    "    passengers: str = np.nan\n",
    "    for_what  : str = np.nan\n",
    "    prev_owners : str = np.nan\n",
    "    extentions : list = []\n",
    "\n",
    "    def featuresList(self):\n",
    "        return [self.price, self.name, self.year, self.insurance, self.color, self.fueil, self.prevـuse, self.license , \n",
    "        self.gear, self.glass, self.engine, self.meter, self.weel_drive, self.payment, \n",
    "        self.for_what, self.prev_owners, self.passengers, self.extentions]\n"
   ]
  },
  {
   "cell_type": "code",
   "execution_count": 21,
   "metadata": {},
   "outputs": [],
   "source": [
    "#read the data and set it to car object then push car features to list \n",
    "path = '../data/'\n",
    "all_data = []\n",
    "for filename in glob.glob(os.path.join(path, '*.txt')):\n",
    "    car = Car\n",
    "    file = open(os.path.join(os.getcwd(), filename), 'r')\n",
    "    html = file.read()\n",
    "    soup = BeautifulSoup(html, 'html.parser')\n",
    "    \n",
    "    car.name = soup.find('table', 'driving-table').findChild('h3').get_text()\n",
    "\n",
    "    car.year = int(soup.find('table', 'driving-table').findChild('h5').get_text().split(\" \")[2])\n",
    "    \n",
    "    ins = soup.find('div', 'row').findChild('tr')\n",
    "    \n",
    "    if ins != None:\n",
    "        car.insurance = int(soup.find('div', 'row').findChild('tr')\\\n",
    "        .find_next_sibling().find_next_sibling().find_next_sibling()\\\n",
    "        .findChild().find_next_sibling().get_text())\n",
    "\n",
    "    car.price = soup.find('h5', \"post-price\").get_text().split(\" \")[0]\n",
    "\n",
    "    file = open(os.path.join(os.getcwd(), filename), 'r')\n",
    "    html = file.read()\n",
    "    soup = BeautifulSoup(html, 'html.parser')\n",
    "   \n",
    "    count = 0\n",
    "    for i in soup.findAll('tr', 'list-row'):\n",
    "      if i != None:\n",
    "         feature = i.td.get_text()\n",
    "         if i.td.findNextSibling() != None : \n",
    "            value = i.td.findNextSibling().get_text()\n",
    "            if count == 13:\n",
    "                 break\n",
    "            else :\n",
    "\n",
    "                if feature == \"لون السيارة\":\n",
    "                    car.color = value\n",
    "                elif feature == \"نوع الوقود\":\n",
    "                    car.fueil = value\n",
    "                elif feature == \"أصل السيارة\":\n",
    "                    car.prevـuse = value\n",
    "                elif feature == \"رخصة السيارة\":\n",
    "                    car.license = value\n",
    "                elif feature == \"عدد الركاب\": \n",
    "                    car.passengers = value\n",
    "                elif feature == \"نوع الجير\":\n",
    "                    car.gear = value\n",
    "                elif feature == \"الزجاج\":\n",
    "                    car.glass = value\n",
    "                elif feature == \"قوة الماتور\":\n",
    "                    car.engine = value\n",
    "                elif feature == \"عداد السيارة\":\n",
    "                    car.meter = value\n",
    "                elif feature == \"الدفع\":\n",
    "                    car.weel_drive = value\n",
    "                elif feature == \"وسيلة الدفع\":\n",
    "                    car.payment = value\n",
    "                elif feature == \"معروضة\":\n",
    "                    car.for_what = value\n",
    "                elif feature == \"أصحاب سابقون\" :\n",
    "                    car.prev_owners = value\n",
    "                elif feature ==  \"إضافات\" :\n",
    "                    car.extentions = value.split('\\n')\n",
    "\n",
    "                count +=1\n",
    "         \n",
    "      else:\n",
    "         continue\n",
    "  \n",
    "        \n",
    "    all_data.append(car.featuresList(car))\n",
    "   \n",
    " \n"
   ]
  },
  {
   "cell_type": "code",
   "execution_count": 22,
   "metadata": {},
   "outputs": [],
   "source": [
    "#create dataframe of data\n",
    "data = pd.DataFrame(all_data, \n",
    "columns= [\"price\", \"name\", \"year\", \"insurance\", \"color\", \"fueil\", \"prevـuse\", \"license\", \"gear\",\n",
    "          \"glass\", \"engine\", \"meter\", \"weel_drive\", \"payment\", \n",
    "          \"for_what\", \"prev_owners\", \"passengers\", \"extentions\"])"
   ]
  },
  {
   "cell_type": "code",
   "execution_count": 38,
   "metadata": {},
   "outputs": [],
   "source": [
    "#expotr data to csv file\n",
    "data.to_csv('../csv-data/data.csv')"
   ]
  }
 ],
 "metadata": {
  "kernelspec": {
   "display_name": "Python 3.8.8 ('.venv': venv)",
   "language": "python",
   "name": "python3"
  },
  "language_info": {
   "codemirror_mode": {
    "name": "ipython",
    "version": 3
   },
   "file_extension": ".py",
   "mimetype": "text/x-python",
   "name": "python",
   "nbconvert_exporter": "python",
   "pygments_lexer": "ipython3",
   "version": "3.8.8"
  },
  "orig_nbformat": 4,
  "vscode": {
   "interpreter": {
    "hash": "5b8740d32c2f6b30978ef3cd136b7cb8ae1bc11d992d49967d595df8b07f7d67"
   }
  }
 },
 "nbformat": 4,
 "nbformat_minor": 2
}
