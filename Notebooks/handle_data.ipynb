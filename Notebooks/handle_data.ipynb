{
 "cells": [
  {
   "cell_type": "code",
   "execution_count": 2,
   "metadata": {},
   "outputs": [],
   "source": [
    "#import libraries\n",
    "import pandas as pd\n",
    "import numpy as np\n",
    "import re\n",
    "import matplotlib.pyplot as plt\n",
    "from sklearn.impute import KNNImputer\n",
    "from sklearn.preprocessing import OneHotEncoder\n",
    "from sklearn.preprocessing import PowerTransformer\n",
    "from sklearn.linear_model import LinearRegression\n",
    "from sklearn.preprocessing import OneHotEncoder\n",
    "from sklearn.model_selection import train_test_split\n",
    "from sklearn.model_selection import cross_val_score\n",
    "from sklearn.tree import DecisionTreeRegressor\n",
    "from sklearn.neighbors import KNeighborsRegressor\n",
    "from sklearn.linear_model import SGDRegressor\n",
    "from sklearn.linear_model import Lasso\n",
    "from sklearn.linear_model import Ridge\n",
    "from sklearn.preprocessing import PolynomialFeatures\n",
    "from sklearn.pipeline import Pipeline\n",
    "from sklearn.compose import ColumnTransformer\n",
    "import pickle"
   ]
  },
  {
   "cell_type": "code",
   "execution_count": 3,
   "metadata": {},
   "outputs": [],
   "source": [
    "#read data\n",
    "data = pd.read_csv('../csv-data/data.csv') "
   ]
  },
  {
   "cell_type": "code",
   "execution_count": 4,
   "metadata": {},
   "outputs": [],
   "source": [
    "# handle oddometer feature\n",
    "def meter_handling(meter):\n",
    "    thousand_exp = ['الف' ,'الاف','ألف','آلف']\n",
    "    value = re.sub(\"|\".join(thousand_exp), \"000\", meter).replace(' ', '')\n",
    "    value =''.join(re.findall(\"\\d+\" , meter)).replace(' ','')\n",
    "    if value == '':\n",
    "        return np.nan\n",
    "    else: \n",
    "        return int(value)\n"
   ]
  },
  {
   "cell_type": "code",
   "execution_count": 5,
   "metadata": {},
   "outputs": [],
   "source": [
    "# handle previous owners feature\n",
    "def owners_handling(owners):\n",
    "  \n",
    "    try:\n",
    "        value = int(owners)\n",
    "        return value \n",
    "    except :\n",
    "        if owners is np.nan:\n",
    "            return owners\n",
    "        elif re.search(r'أول|اول|۱|1|واحد', owners):\n",
    "            return 1 \n",
    "        elif re.search(r'ثاني|تاني|۲|2', owners):\n",
    "            return 2 \n",
    "        elif re.search(r'ثالث|تالت|ثلاث|تلاث|3|۳', owners):\n",
    "            return int(3)\n",
    "        elif re.search(r'رابع|اربع|4|٤', owners):\n",
    "            return 4 \n",
    "        elif re.search(r'خامس|خمس|٥|5', owners):\n",
    "            return 5 \n",
    "        elif re.search(r'سادس|ستة|٦|6', owners):\n",
    "            return 6 \n",
    "        elif re.search(r'سابع|سبع|۷|7', owners):\n",
    "            return 7 \n",
    "        elif re.search(r'ثامن|تامن|ثمن|تمن|۸|8', owners):\n",
    "            return 8 \n",
    "        elif re.search(r'تاسع|تسع|۹|9', owners):\n",
    "            return 9 \n",
    "        elif re.search(r'عشر|عاشر|۱۰|10', owners):\n",
    "            return 10 \n",
    "        elif re.search(r'ستيراد|مستورد|جديد|صفر|غير|شرك|Zero|0|۰|مش|لا', owners):\n",
    "            return 0\n",
    "        else:\n",
    "            return np.nan"
   ]
  },
  {
   "cell_type": "code",
   "execution_count": 6,
   "metadata": {},
   "outputs": [],
   "source": [
    "# handle passenger fearure\n",
    "def passengers_handling(passengers):\n",
    "    try:\n",
    "        if passengers == '1٠4 ':\n",
    "            return 5\n",
    "        if passengers == '7.1 ':\n",
    "            return 8\n",
    "        if passengers == (7, 1):\n",
    "            return 8\n",
    "        return(int(passengers))\n",
    "        \n",
    "    except:\n",
    "        try:\n",
    "            return(eval(passengers))\n",
    "        except:\n",
    "            if type(passengers) == str:\n",
    "                passengers_ = passengers.replace('مثال:' , '')\n",
    "                if '+' in passengers_:\n",
    "                    r = passengers_.split('+')\n",
    "                    return(int(r[0])+int(r[1]))\n",
    "                else:\n",
    "                    passengers__= 0\n",
    "                    list_of_numbers = ''.join(re.findall(\"\\d+\" , passengers_))\n",
    "                    for num in list_of_numbers:\n",
    "                        passengers__ += int(num)\n",
    "                    return passengers__\n"
   ]
  },
  {
   "cell_type": "code",
   "execution_count": 7,
   "metadata": {},
   "outputs": [],
   "source": [
    "# take first part of car name \n",
    "def name_handle(name):\n",
    "    return name.split(' ')[0]\n"
   ]
  },
  {
   "cell_type": "code",
   "execution_count": 8,
   "metadata": {},
   "outputs": [],
   "source": [
    "#function for OnHotEncoding\n",
    "def one_hot_encoding(data, column):\n",
    "    ohe = OneHotEncoder()\n",
    "    transformed = ohe.fit_transform(data[[column]])\n",
    "    data[ohe.categories_[0]] = transformed.toarray()\n",
    "    data.drop(column, inplace=True, axis=1)\n",
    "    return data"
   ]
  },
  {
   "cell_type": "code",
   "execution_count": 9,
   "metadata": {},
   "outputs": [],
   "source": [
    "# data to encode\n",
    "data_before_encode = data.copy()"
   ]
  },
  {
   "cell_type": "code",
   "execution_count": 10,
   "metadata": {},
   "outputs": [
    {
     "data": {
      "text/plain": [
       "array(['يد اولى ', 'يد ثانيه ', '3 ', 'ثالثه ', '٣ ', '٤ ', '6 ',\n",
       "       'يد ثانية ', '٢ ', 'اولى  ', 'اولى ', '0 ', 'يد 5 ', 'يد 4 ',\n",
       "       '11 ', '2 ', 'ثانية ', 'يد ثالثة ', 'يد 2 ', 'يد تانيه  ', '1 ',\n",
       "       'يد أولى  ', 'يد٢ ', 'ايد اولى  ', 'يد 0 ', '5 ', 'يد اولى  ',\n",
       "       'يد ثالثه ', '--- ', '03 ', 'يد أولى ', 'يد ثالثة  ', 'ايد ثانيه ',\n",
       "       '000 ', 'يد٣ ', '، ', 'يد أولئ أصحاب سابقون صفر ', 'ايد ثانية  ',\n",
       "       '١ ', 'يد اولي ', 'يد رابعه ', 'تانبه ', '4 ', 'غير منمره ',\n",
       "       'يد تانية ', '٥ ', 'صفر ', 'أستيراد ألماني  ', 'يد اولى الماني  ',\n",
       "       '00 ', '9 ', 'يد 8 ', '7 ', 'استيراد مباشر من اوروبا  ',\n",
       "       'يد عاشرة ', 'يد خامساً  ', '4  ', 'صفر  ', 'ثالثة ', 'يد ثانية  ',\n",
       "       'يد اوله ', 'اربعة ', 'يد صفر  ', '00000000 ',\n",
       "       'مستوردة غير منمرة ', 'مش منمره ', '10 ', 'يد تالته ', 'مستورد ',\n",
       "       'يد صفر ', '000000 ', '8 ', 'مستوردة يد اولى ',\n",
       "       'مستوردة غير مرخصة ', 'أولى  ', 'يد 3 ', 'استيراد مباشر ',\n",
       "       'يد تانيه ', '. ', 'يد رابعه  ', 'تانيه ', 'يداولى ',\n",
       "       'غير منمرمستوردة ', 'E ', '1000 ', 'صفرر ', 'مش منمرة ',\n",
       "       'يد خامسه ', 'خصوصي  ', 'خامسة ', 'ثانيه ', 'يد ٢ ', 'رابعه  ',\n",
       "       'يدثانية ', 'يد اةلي ', '0000 ', '٠٠ ', 'ايد اولى ', 'يد أولئ  ',\n",
       "       'مش منمر ', 'يد3 ', 'يد ثاني ', 'يد ثالث ', 'استراد شخصي ',\n",
       "       'يدثالثة ', 'يد ثانيه  ', 'استيراد الماني ', 'ثالثة  ',\n",
       "       'يد خامسة ', 'يد اولا ', 'يد رابعة  ', 'يد رابعة ', '٦ ',\n",
       "       'استيراد ', 'يد اولة ', 'يد واحد  ', 'غير منمر استيراد الماني ',\n",
       "       'رابعه ', 'ا ', 'يدتانيه ', '11111 ', 'ثاني ', 'مستوردة ',\n",
       "       '********** ', '١٧ ', 'استيراد مباشر من كوريا  ', 'يد ٣ ', '٨ ',\n",
       "       '- ', 'يد ثالثة ( فتيات) ', 'أولى ', 'يد خامسة  ', 'رابعة ',\n",
       "       '٠٠٠٠٠ ', 'يد اولى صفر كيلو  ', 'يد اربعه ', '٠ ', '12 ', 'خامسه ',\n",
       "       'ايد رابعه ', '٧ ', 'يد اولا  ', 'صفرض ', '00000 ', ' 0 ',\n",
       "       'يد التالته ', '١١ ', 'يد ثالثه  ', 'غير منمرة ',\n",
       "       'يد اولى، استيراد شخصي ', '١٢ ', 'مستورد  ', '0استيراد  ',\n",
       "       'غير منمر ', 'نعم ', 'تالثه ', 'ثالثى ', 'ايد 2 ', 'يد ١ ',\n",
       "       'يد اولة  ', 'تالته ', '15 ', ' استيراد الماني ', 'وارد المانيا ',\n",
       "       '1  ', '0000000 ', 'سحب شركة ', '4 نفس الشخص ', ' 2 ', 'اثنان ',\n",
       "       '١٠ ', 'يد اول ', '.. ', 'ثانية  ', 'مستورده يد اولى ',\n",
       "       'يد ثاني.  ', '18 ', '...... ', 'يد2 ', '١٨ ', 'يد اولى ( شركة ) ',\n",
       "       '? ', 'اولى\\x89 ', 'O ', 'يد اولى وكالة ', 'اول ', 'يد 6 ', '... ',\n",
       "       '0 استيراد  ', 'ياولى ', 'يد اول  ', 'يد ٤ ', 'يد ثالثي ', '2  ',\n",
       "       ' يد ثانية ', 'يد سادسة ', '٠٠٠٠٠٠٠٠٠ ', 'يد عاشره ', 'يدو اولى  ',\n",
       "       '؟ ', 'ايدثانيه ', 'مستورده  ', 'يد اولئ ', 'مستوردة  ',\n",
       "       'غير منمر  ', 'سابعه ', '٠٠٠٠٠٠٠ ', 'مش منمرة  ', 'يد اولىً ',\n",
       "       'استيراد كوريا  ', '  5 ', 'للبيع  ', 'يد ٥ ', 'مستورد شركة  ',\n",
       "       '٠٠٠٠٠٠٠٠٠٠ ', 'يد ١٧ ', '2يد ', '١٥ ', 'يد. اولى ', 'يد ا ',\n",
       "       'يد ثاني  ', ' منمره  ', 'اصحاب سابقون صفر ', 'اشخاص ',\n",
       "       'يد تانية  ', 'يد ثامنه ', 'يدثالثه ', 'اولا ', '******** ',\n",
       "       'يدثانيه  ', 'مستود غير منمر ', '56 ', 'يدأولى ', 'واحد ',\n",
       "       '0778244 ', 'استيراد كوريا ', 'لا شيء ', 'يد اولي  ', 'يداولا ',\n",
       "       '159000 ', 'يد سابعه ', '****** ', '12345 ', 'ايد اوله ', 'يد ٧  ',\n",
       "       'يد تاني ', 'اوله ', '78888877766 ', 'يدى اوله  ', ' 5 ',\n",
       "       'يد واحدة  ', 'بد اولى مستورد ', ' 1 ', 'لا يوجد ',\n",
       "       'يد اولى من الشركة المتحدة ', 'يد أولى استيراد ', 'خمسة ',\n",
       "       '0 مستورد كوري ', '00  ', '، 0 ', ' ايد ثالثه ', 'يد خمسة ',\n",
       "       'يداولى سحب شركه ', 'يد ولى ', '123423 ', 'يد ثانيا ', 'مستورده ',\n",
       "       '01 ', '3  ', 'يد اولى اصحاب سابقون 0 ', '٩ ',\n",
       "       'يد اولى  اصل شركة ', 'ايد أولى  ', 'تانية ', 'يد4 ',\n",
       "       'من الشركه مباشر لا يوجد اصحاب سابقون ',\n",
       "       'استيراد كوريا - جديد مش منمر ', '......... ',\n",
       "       'وارد كوريا يد اولى ', 'يد اولى فقط ', '@ ', 'يد 1 ', 'خمس ',\n",
       "       'انا ', 'يد واله ', '04 ', '0مستورد ', '17 ', 'Zero ',\n",
       "       'يد  ثانية ', ',3 ', 'يد ', 'يد ثاتيه ', 'يد تاسعة ', 'شطب ',\n",
       "       '14 ', '  O ', '0 استيراد كوري  ', 'يد اولي 1 ', '170000 ',\n",
       "       'اصل تدريب سواقه  ', '٠٠٠٠ ', '٠٠٠٠٠٠ ', '1 أولى  ', 'الثانية ',\n",
       "       'يد أولى بعد الاستيراد ', 'يد اولى استيراد شخصي ', 'يد ولا ',\n",
       "       'يد أولى،... ', '2يد  ', '0 مستورده ', 'يد6 ', 'يد سابعة ',\n",
       "       'يدو اولى ', 'يد ٤ بس نخب السيارة ', 'مش منمر . (صفر) ',\n",
       "       'استراد  ', '19 ', '٤٤٤٤٤ ', ' يد ثانيه ', 'يد٤ ', 'يدثانيه ',\n",
       "       'مش منمرا ', 'يديانيه ', 'ثالث ', '٠٠٠٠٩ ', 'فقط يد اولى ',\n",
       "       'يدخامسه ', 'يد اولى / استيراد ', '13 ', '  6 ', ' 00 ', 'خمسه ',\n",
       "       '.... ', 'يد  ١ ', 'ايد 3 ', 'عدد٣ ', 'Ooo ', 'لايوجد ',\n",
       "       'يد أولي ', 'اصل شركة ', 'مشطوب ', 'يد اولى شركة ', 'اوله  ',\n",
       "       'يد ثني ', 'استيراد المانيا ', 'ثمانيه ', 'غير منمرة  ',\n",
       "       'استيراد كوري ', 'أيد تانية ', 'مش منمر  ', 'يد ٩  ', 'يد٥ ',\n",
       "       '16 ', 'تاني  ', 'ايد ثالثة  ', 'يد أولى وكالة ', 'ثانبه ',\n",
       "       'يد أولى 1 ', '٠٠٠٠٠٠٠٠ '], dtype=object)"
      ]
     },
     "execution_count": 10,
     "metadata": {},
     "output_type": "execute_result"
    }
   ],
   "source": [
    "# unique values of previous owners bafore handling\n",
    "data_before_encode['prev_owners'].unique()"
   ]
  },
  {
   "cell_type": "code",
   "execution_count": 11,
   "metadata": {},
   "outputs": [],
   "source": [
    "# reassign handled name feature values to the data frame\n",
    "new_name =list(map(name_handle, data_before_encode['name']))\n",
    "data_before_encode['name'] = new_name "
   ]
  },
  {
   "cell_type": "code",
   "execution_count": 12,
   "metadata": {},
   "outputs": [
    {
     "data": {
      "text/plain": [
       "array(['كيا', 'هونداي', 'بيجو', 'سكودا', 'سوبارو', 'سيت', 'مرسيدس',\n",
       "       'اودي', 'فولكسفاجن', 'Dodge', 'اوبل', 'شفروليه', 'فورد', 'فولفو',\n",
       "       'ستروين', 'جييب', 'تويوتا', 'ايسوزو', 'رينو', 'مازدا', 'فيات',\n",
       "       'بي', 'دايو', 'أفيكو', 'الفا', 'ميتسوبيشي', 'سانغ', 'دراجة', 'جي',\n",
       "       'شاحنة', 'هوندا', 'نيسان', 'داف', 'لاندروفر', 'روفر', 'داتشيا',\n",
       "       'كاديلاك', 'باص', 'سوزوكي', 'ديهاتسو', 'جاجوار'], dtype=object)"
      ]
     },
     "execution_count": 12,
     "metadata": {},
     "output_type": "execute_result"
    }
   ],
   "source": [
    "# unique values of previous owners after handling\n",
    "data_before_encode['name'].unique()"
   ]
  },
  {
   "cell_type": "code",
   "execution_count": 13,
   "metadata": {},
   "outputs": [],
   "source": [
    "# null_indexes = data_before_encode[data_before_encode['weel_drive'].isna()].index\n",
    "# data_before_encode.drop(null_indexes, inplace=True, axis=0)"
   ]
  },
  {
   "cell_type": "code",
   "execution_count": 14,
   "metadata": {},
   "outputs": [],
   "source": [
    "# name of columns to be encoded\n",
    "cols_to_encode= ['color','fueil','license', 'name','gear', 'glass', 'weel_drive', 'prevـuse']\n",
    "\n",
    "# name of columns to use in train and evaluate\n",
    "all_used_cols = ['color','fueil','license', 'name','gear', 'glass', 'weel_drive', 'prevـuse', 'prev_owners' ,'passengers', 'engine', 'meter', 'year', 'price']"
   ]
  },
  {
   "cell_type": "code",
   "execution_count": 16,
   "metadata": {},
   "outputs": [],
   "source": [
    "#  run twice\n",
    "# # reassign handled 'passengers' feature values to the data frame\n",
    "new_passengers =list(map(passengers_handling, data_before_encode['passengers']))\n",
    "data_before_encode['passengers'] = new_passengers"
   ]
  },
  {
   "cell_type": "code",
   "execution_count": 17,
   "metadata": {},
   "outputs": [],
   "source": [
    "# reassign handled 'meter' feature values to the data frame\n",
    "new_meter =list(map(meter_handling, data_before_encode['meter']))\n",
    "data_before_encode['meter'] = new_meter"
   ]
  },
  {
   "cell_type": "code",
   "execution_count": 18,
   "metadata": {},
   "outputs": [],
   "source": [
    "# reassign handled 'previous owners' feature values to the data frame\n",
    "new_prev_owners =list(map(owners_handling, data_before_encode['prev_owners']))\n",
    "data_before_encode['prev_owners'] = new_prev_owners\n"
   ]
  },
  {
   "cell_type": "code",
   "execution_count": 19,
   "metadata": {},
   "outputs": [
    {
     "data": {
      "text/plain": [
       "101"
      ]
     },
     "execution_count": 19,
     "metadata": {},
     "output_type": "execute_result"
    }
   ],
   "source": [
    "# num of samples with null data in 'previous owners' feature\n",
    "data_before_encode['prev_owners'].isna().sum()"
   ]
  },
  {
   "cell_type": "code",
   "execution_count": 20,
   "metadata": {},
   "outputs": [],
   "source": [
    "# replace value of passenger from 0 to 8 for car with name 'فولكسفاجن ترانسبورتر' with 2966 index\n",
    "data_before_encode.iloc[2966-9, 17] = 8"
   ]
  },
  {
   "cell_type": "code",
   "execution_count": 21,
   "metadata": {},
   "outputs": [],
   "source": [
    "# data to be encoded\n",
    "data_after_encode = data_before_encode[all_used_cols].copy()"
   ]
  },
  {
   "cell_type": "code",
   "execution_count": 22,
   "metadata": {},
   "outputs": [],
   "source": [
    "# do OneHotEncoding to dataframe with (Categorical) values\n",
    "for col in cols_to_encode:\n",
    "    data_after_encode = one_hot_encoding(data_after_encode, col)"
   ]
  },
  {
   "cell_type": "code",
   "execution_count": 23,
   "metadata": {},
   "outputs": [
    {
     "data": {
      "text/html": [
       "<div>\n",
       "<style scoped>\n",
       "    .dataframe tbody tr th:only-of-type {\n",
       "        vertical-align: middle;\n",
       "    }\n",
       "\n",
       "    .dataframe tbody tr th {\n",
       "        vertical-align: top;\n",
       "    }\n",
       "\n",
       "    .dataframe thead th {\n",
       "        text-align: right;\n",
       "    }\n",
       "</style>\n",
       "<table border=\"1\" class=\"dataframe\">\n",
       "  <thead>\n",
       "    <tr style=\"text-align: right;\">\n",
       "      <th></th>\n",
       "      <th>prev_owners</th>\n",
       "      <th>passengers</th>\n",
       "      <th>engine</th>\n",
       "      <th>meter</th>\n",
       "      <th>year</th>\n",
       "      <th>price</th>\n",
       "      <th>أبيض</th>\n",
       "      <th>أبيض عاجي</th>\n",
       "      <th>أحمر</th>\n",
       "      <th>أخضر</th>\n",
       "      <th>...</th>\n",
       "      <th>يدوي</th>\n",
       "      <th>دفع أمامي</th>\n",
       "      <th>دفع خلفي</th>\n",
       "      <th>دفع رباعي 4x4</th>\n",
       "      <th>تأجير</th>\n",
       "      <th>تجاري</th>\n",
       "      <th>تدريب سياقة</th>\n",
       "      <th>حكومي</th>\n",
       "      <th>خصوصي</th>\n",
       "      <th>عمومي</th>\n",
       "    </tr>\n",
       "  </thead>\n",
       "  <tbody>\n",
       "    <tr>\n",
       "      <th>9</th>\n",
       "      <td>3.0</td>\n",
       "      <td>6</td>\n",
       "      <td>1600</td>\n",
       "      <td>50000</td>\n",
       "      <td>1979</td>\n",
       "      <td>60000</td>\n",
       "      <td>0.0</td>\n",
       "      <td>0.0</td>\n",
       "      <td>0.0</td>\n",
       "      <td>0.0</td>\n",
       "      <td>...</td>\n",
       "      <td>1.0</td>\n",
       "      <td>1.0</td>\n",
       "      <td>0.0</td>\n",
       "      <td>0.0</td>\n",
       "      <td>0.0</td>\n",
       "      <td>0.0</td>\n",
       "      <td>0.0</td>\n",
       "      <td>0.0</td>\n",
       "      <td>1.0</td>\n",
       "      <td>0.0</td>\n",
       "    </tr>\n",
       "    <tr>\n",
       "      <th>10</th>\n",
       "      <td>3.0</td>\n",
       "      <td>5</td>\n",
       "      <td>1400</td>\n",
       "      <td>180000</td>\n",
       "      <td>2010</td>\n",
       "      <td>70000</td>\n",
       "      <td>0.0</td>\n",
       "      <td>0.0</td>\n",
       "      <td>0.0</td>\n",
       "      <td>0.0</td>\n",
       "      <td>...</td>\n",
       "      <td>0.0</td>\n",
       "      <td>1.0</td>\n",
       "      <td>0.0</td>\n",
       "      <td>0.0</td>\n",
       "      <td>0.0</td>\n",
       "      <td>0.0</td>\n",
       "      <td>0.0</td>\n",
       "      <td>0.0</td>\n",
       "      <td>1.0</td>\n",
       "      <td>0.0</td>\n",
       "    </tr>\n",
       "    <tr>\n",
       "      <th>11</th>\n",
       "      <td>1.0</td>\n",
       "      <td>5</td>\n",
       "      <td>6700</td>\n",
       "      <td>120000</td>\n",
       "      <td>2015</td>\n",
       "      <td>125000</td>\n",
       "      <td>1.0</td>\n",
       "      <td>0.0</td>\n",
       "      <td>0.0</td>\n",
       "      <td>0.0</td>\n",
       "      <td>...</td>\n",
       "      <td>0.0</td>\n",
       "      <td>0.0</td>\n",
       "      <td>0.0</td>\n",
       "      <td>1.0</td>\n",
       "      <td>0.0</td>\n",
       "      <td>0.0</td>\n",
       "      <td>0.0</td>\n",
       "      <td>0.0</td>\n",
       "      <td>1.0</td>\n",
       "      <td>0.0</td>\n",
       "    </tr>\n",
       "    <tr>\n",
       "      <th>12</th>\n",
       "      <td>4.0</td>\n",
       "      <td>5</td>\n",
       "      <td>1900</td>\n",
       "      <td>14</td>\n",
       "      <td>2001</td>\n",
       "      <td>25000</td>\n",
       "      <td>0.0</td>\n",
       "      <td>0.0</td>\n",
       "      <td>0.0</td>\n",
       "      <td>0.0</td>\n",
       "      <td>...</td>\n",
       "      <td>0.0</td>\n",
       "      <td>0.0</td>\n",
       "      <td>0.0</td>\n",
       "      <td>1.0</td>\n",
       "      <td>0.0</td>\n",
       "      <td>0.0</td>\n",
       "      <td>0.0</td>\n",
       "      <td>0.0</td>\n",
       "      <td>0.0</td>\n",
       "      <td>1.0</td>\n",
       "    </tr>\n",
       "    <tr>\n",
       "      <th>13</th>\n",
       "      <td>6.0</td>\n",
       "      <td>5</td>\n",
       "      <td>1400</td>\n",
       "      <td>220000</td>\n",
       "      <td>2007</td>\n",
       "      <td>32000</td>\n",
       "      <td>0.0</td>\n",
       "      <td>0.0</td>\n",
       "      <td>0.0</td>\n",
       "      <td>0.0</td>\n",
       "      <td>...</td>\n",
       "      <td>0.0</td>\n",
       "      <td>0.0</td>\n",
       "      <td>0.0</td>\n",
       "      <td>1.0</td>\n",
       "      <td>0.0</td>\n",
       "      <td>0.0</td>\n",
       "      <td>0.0</td>\n",
       "      <td>0.0</td>\n",
       "      <td>1.0</td>\n",
       "      <td>0.0</td>\n",
       "    </tr>\n",
       "    <tr>\n",
       "      <th>...</th>\n",
       "      <td>...</td>\n",
       "      <td>...</td>\n",
       "      <td>...</td>\n",
       "      <td>...</td>\n",
       "      <td>...</td>\n",
       "      <td>...</td>\n",
       "      <td>...</td>\n",
       "      <td>...</td>\n",
       "      <td>...</td>\n",
       "      <td>...</td>\n",
       "      <td>...</td>\n",
       "      <td>...</td>\n",
       "      <td>...</td>\n",
       "      <td>...</td>\n",
       "      <td>...</td>\n",
       "      <td>...</td>\n",
       "      <td>...</td>\n",
       "      <td>...</td>\n",
       "      <td>...</td>\n",
       "      <td>...</td>\n",
       "      <td>...</td>\n",
       "    </tr>\n",
       "    <tr>\n",
       "      <th>6859</th>\n",
       "      <td>2.0</td>\n",
       "      <td>5</td>\n",
       "      <td>1800</td>\n",
       "      <td>50000</td>\n",
       "      <td>1973</td>\n",
       "      <td>27000</td>\n",
       "      <td>0.0</td>\n",
       "      <td>0.0</td>\n",
       "      <td>1.0</td>\n",
       "      <td>0.0</td>\n",
       "      <td>...</td>\n",
       "      <td>1.0</td>\n",
       "      <td>1.0</td>\n",
       "      <td>0.0</td>\n",
       "      <td>0.0</td>\n",
       "      <td>0.0</td>\n",
       "      <td>0.0</td>\n",
       "      <td>0.0</td>\n",
       "      <td>0.0</td>\n",
       "      <td>1.0</td>\n",
       "      <td>0.0</td>\n",
       "    </tr>\n",
       "    <tr>\n",
       "      <th>6860</th>\n",
       "      <td>2.0</td>\n",
       "      <td>7</td>\n",
       "      <td>2000</td>\n",
       "      <td>140</td>\n",
       "      <td>2016</td>\n",
       "      <td>117000</td>\n",
       "      <td>0.0</td>\n",
       "      <td>0.0</td>\n",
       "      <td>0.0</td>\n",
       "      <td>0.0</td>\n",
       "      <td>...</td>\n",
       "      <td>0.0</td>\n",
       "      <td>1.0</td>\n",
       "      <td>0.0</td>\n",
       "      <td>0.0</td>\n",
       "      <td>0.0</td>\n",
       "      <td>0.0</td>\n",
       "      <td>0.0</td>\n",
       "      <td>0.0</td>\n",
       "      <td>1.0</td>\n",
       "      <td>0.0</td>\n",
       "    </tr>\n",
       "    <tr>\n",
       "      <th>6861</th>\n",
       "      <td>1.0</td>\n",
       "      <td>5</td>\n",
       "      <td>1400</td>\n",
       "      <td>40</td>\n",
       "      <td>2017</td>\n",
       "      <td>67000</td>\n",
       "      <td>0.0</td>\n",
       "      <td>0.0</td>\n",
       "      <td>0.0</td>\n",
       "      <td>0.0</td>\n",
       "      <td>...</td>\n",
       "      <td>0.0</td>\n",
       "      <td>1.0</td>\n",
       "      <td>0.0</td>\n",
       "      <td>0.0</td>\n",
       "      <td>0.0</td>\n",
       "      <td>0.0</td>\n",
       "      <td>0.0</td>\n",
       "      <td>0.0</td>\n",
       "      <td>1.0</td>\n",
       "      <td>0.0</td>\n",
       "    </tr>\n",
       "    <tr>\n",
       "      <th>6862</th>\n",
       "      <td>2.0</td>\n",
       "      <td>5</td>\n",
       "      <td>1200</td>\n",
       "      <td>60</td>\n",
       "      <td>2015</td>\n",
       "      <td>58000</td>\n",
       "      <td>1.0</td>\n",
       "      <td>0.0</td>\n",
       "      <td>0.0</td>\n",
       "      <td>0.0</td>\n",
       "      <td>...</td>\n",
       "      <td>0.0</td>\n",
       "      <td>1.0</td>\n",
       "      <td>0.0</td>\n",
       "      <td>0.0</td>\n",
       "      <td>0.0</td>\n",
       "      <td>0.0</td>\n",
       "      <td>0.0</td>\n",
       "      <td>0.0</td>\n",
       "      <td>1.0</td>\n",
       "      <td>0.0</td>\n",
       "    </tr>\n",
       "    <tr>\n",
       "      <th>6863</th>\n",
       "      <td>1.0</td>\n",
       "      <td>5</td>\n",
       "      <td>1400</td>\n",
       "      <td>82</td>\n",
       "      <td>2016</td>\n",
       "      <td>65000</td>\n",
       "      <td>0.0</td>\n",
       "      <td>0.0</td>\n",
       "      <td>0.0</td>\n",
       "      <td>0.0</td>\n",
       "      <td>...</td>\n",
       "      <td>0.0</td>\n",
       "      <td>1.0</td>\n",
       "      <td>0.0</td>\n",
       "      <td>0.0</td>\n",
       "      <td>0.0</td>\n",
       "      <td>0.0</td>\n",
       "      <td>0.0</td>\n",
       "      <td>0.0</td>\n",
       "      <td>1.0</td>\n",
       "      <td>0.0</td>\n",
       "    </tr>\n",
       "  </tbody>\n",
       "</table>\n",
       "<p>6855 rows × 93 columns</p>\n",
       "</div>"
      ],
      "text/plain": [
       "      prev_owners  passengers  engine   meter  year   price  أبيض   \\\n",
       "9             3.0           6    1600   50000  1979   60000    0.0   \n",
       "10            3.0           5    1400  180000  2010   70000    0.0   \n",
       "11            1.0           5    6700  120000  2015  125000    1.0   \n",
       "12            4.0           5    1900      14  2001   25000    0.0   \n",
       "13            6.0           5    1400  220000  2007   32000    0.0   \n",
       "...           ...         ...     ...     ...   ...     ...    ...   \n",
       "6859          2.0           5    1800   50000  1973   27000    0.0   \n",
       "6860          2.0           7    2000     140  2016  117000    0.0   \n",
       "6861          1.0           5    1400      40  2017   67000    0.0   \n",
       "6862          2.0           5    1200      60  2015   58000    1.0   \n",
       "6863          1.0           5    1400      82  2016   65000    0.0   \n",
       "\n",
       "      أبيض عاجي   أحمر   أخضر   ...  يدوي   دفع أمامي   دفع خلفي   \\\n",
       "9            0.0    0.0    0.0  ...    1.0         1.0        0.0   \n",
       "10           0.0    0.0    0.0  ...    0.0         1.0        0.0   \n",
       "11           0.0    0.0    0.0  ...    0.0         0.0        0.0   \n",
       "12           0.0    0.0    0.0  ...    0.0         0.0        0.0   \n",
       "13           0.0    0.0    0.0  ...    0.0         0.0        0.0   \n",
       "...          ...    ...    ...  ...    ...         ...        ...   \n",
       "6859         0.0    1.0    0.0  ...    1.0         1.0        0.0   \n",
       "6860         0.0    0.0    0.0  ...    0.0         1.0        0.0   \n",
       "6861         0.0    0.0    0.0  ...    0.0         1.0        0.0   \n",
       "6862         0.0    0.0    0.0  ...    0.0         1.0        0.0   \n",
       "6863         0.0    0.0    0.0  ...    0.0         1.0        0.0   \n",
       "\n",
       "      دفع رباعي 4x4   تأجير   تجاري   تدريب سياقة   حكومي   خصوصي   عمومي   \n",
       "9                0.0     0.0     0.0           0.0     0.0     1.0     0.0  \n",
       "10               0.0     0.0     0.0           0.0     0.0     1.0     0.0  \n",
       "11               1.0     0.0     0.0           0.0     0.0     1.0     0.0  \n",
       "12               1.0     0.0     0.0           0.0     0.0     0.0     1.0  \n",
       "13               1.0     0.0     0.0           0.0     0.0     1.0     0.0  \n",
       "...              ...     ...     ...           ...     ...     ...     ...  \n",
       "6859             0.0     0.0     0.0           0.0     0.0     1.0     0.0  \n",
       "6860             0.0     0.0     0.0           0.0     0.0     1.0     0.0  \n",
       "6861             0.0     0.0     0.0           0.0     0.0     1.0     0.0  \n",
       "6862             0.0     0.0     0.0           0.0     0.0     1.0     0.0  \n",
       "6863             0.0     0.0     0.0           0.0     0.0     1.0     0.0  \n",
       "\n",
       "[6855 rows x 93 columns]"
      ]
     },
     "execution_count": 23,
     "metadata": {},
     "output_type": "execute_result"
    }
   ],
   "source": [
    "# data after encoding\n",
    "data_after_encode\n"
   ]
  },
  {
   "cell_type": "code",
   "execution_count": 24,
   "metadata": {},
   "outputs": [
    {
     "data": {
      "text/plain": [
       "<bound method Series.sort_values of prev_owners     101\n",
       "passengers        0\n",
       "engine            0\n",
       "meter            86\n",
       "year              0\n",
       "               ... \n",
       "تجاري             0\n",
       "تدريب سياقة       0\n",
       "حكومي             0\n",
       "خصوصي             0\n",
       "عمومي             0\n",
       "Length: 93, dtype: int64>"
      ]
     },
     "execution_count": 24,
     "metadata": {},
     "output_type": "execute_result"
    }
   ],
   "source": [
    "# num of null values in each feature\n",
    "data_after_encode.isna().sum().sort_values"
   ]
  },
  {
   "cell_type": "code",
   "execution_count": 25,
   "metadata": {},
   "outputs": [],
   "source": [
    "# drop samples with null values\n",
    "data_after_encode.dropna(axis=0, how='any',  inplace=True)\n"
   ]
  },
  {
   "cell_type": "code",
   "execution_count": 26,
   "metadata": {},
   "outputs": [
    {
     "data": {
      "text/plain": [
       "prev_owners     0\n",
       "passengers      0\n",
       "engine          0\n",
       "meter           0\n",
       "year            0\n",
       "               ..\n",
       "تجاري           0\n",
       "تدريب سياقة     0\n",
       "حكومي           0\n",
       "خصوصي           0\n",
       "عمومي           0\n",
       "Length: 93, dtype: int64"
      ]
     },
     "execution_count": 26,
     "metadata": {},
     "output_type": "execute_result"
    }
   ],
   "source": [
    "# after drop null samples\n",
    "data_after_encode.isna().sum()"
   ]
  },
  {
   "cell_type": "code",
   "execution_count": 27,
   "metadata": {},
   "outputs": [],
   "source": [
    "# convert prev_owners data type to int \n",
    "data_after_encode['prev_owners']=data_after_encode['prev_owners'].astype(int) "
   ]
  },
  {
   "cell_type": "code",
   "execution_count": 28,
   "metadata": {},
   "outputs": [],
   "source": [
    "# # # fill meter null values with KNN imputer with nearest two neaboures\n",
    "# imputer = KNNImputer(n_neighbors=2)\n",
    "# without_na = imputer.fit_transform(data_after_encode[['meter', 'prev_owners']])"
   ]
  },
  {
   "cell_type": "code",
   "execution_count": 29,
   "metadata": {},
   "outputs": [],
   "source": [
    "# dataframe without null data \n",
    "# data_after_encode['meter'] = without_na"
   ]
  },
  {
   "cell_type": "code",
   "execution_count": 30,
   "metadata": {},
   "outputs": [
    {
     "data": {
      "text/plain": [
       "prev_owners     57.766769\n",
       "passengers       1.484496\n",
       "engine           2.623409\n",
       "meter           57.766769\n",
       "year            -1.346636\n",
       "                  ...    \n",
       "تجاري            5.739452\n",
       "تدريب سياقة     13.145109\n",
       "حكومي            8.250865\n",
       "خصوصي           -1.974974\n",
       "عمومي            3.038736\n",
       "Length: 93, dtype: float64"
      ]
     },
     "execution_count": 30,
     "metadata": {},
     "output_type": "execute_result"
    }
   ],
   "source": [
    "data_after_encode.skew()"
   ]
  },
  {
   "cell_type": "code",
   "execution_count": 31,
   "metadata": {},
   "outputs": [],
   "source": [
    "# list of numeric features \n",
    "features = ['engine' ,'meter','year','passengers', 'prev_owners']"
   ]
  },
  {
   "cell_type": "code",
   "execution_count": 32,
   "metadata": {},
   "outputs": [],
   "source": [
    "# data to remove outliers \n",
    "data_to_remove_outliers= data_after_encode.copy()"
   ]
  },
  {
   "cell_type": "markdown",
   "metadata": {},
   "source": [
    "# remove outliers"
   ]
  },
  {
   "cell_type": "code",
   "execution_count": 33,
   "metadata": {},
   "outputs": [],
   "source": [
    "# remove outliers with z-score\n",
    "def detect_outlier_zscore(data, columns):\n",
    "    threshold=3\n",
    "    for column in columns:\n",
    "        mean_1 = np.mean(data[column])\n",
    "        std_1 =np.std(data[column])\n",
    "        new_col = ((data[column]-mean_1)/std_1)\n",
    "        data = data[new_col <= threshold]\n",
    "        data = data[new_col >= (threshold*-1)]\n",
    "\n",
    "    return data"
   ]
  },
  {
   "cell_type": "code",
   "execution_count": 34,
   "metadata": {},
   "outputs": [],
   "source": [
    "# remove outliers with quartiles\n",
    "def detect_outlier_quartiles(data, columns):\n",
    "    for column in columns:\n",
    "        q1, q3= np.percentile(data[column],[25,75])\n",
    "        iqr = q3 - q1\n",
    "        lower_bound = q1 -(1.5 * iqr) \n",
    "        upper_bound = q3 +(1.5 * iqr) \n",
    "        data = data[((data[column])>= lower_bound ) & ((data[column]) <= upper_bound)]\n",
    "   \n",
    "    return data\n"
   ]
  },
  {
   "cell_type": "code",
   "execution_count": 35,
   "metadata": {},
   "outputs": [
    {
     "data": {
      "text/plain": [
       "<AxesSubplot:>"
      ]
     },
     "execution_count": 35,
     "metadata": {},
     "output_type": "execute_result"
    },
    {
     "data": {
      "image/png": "[encoded data removed]",
      "text/plain": [
       "<Figure size 640x480 with 1 Axes>"
      ]
     },
     "metadata": {},
     "output_type": "display_data"
    }
   ],
   "source": [
    "data_to_remove_outliers['prev_owners'].value_counts().plot.bar()"
   ]
  },
  {
   "cell_type": "code",
   "execution_count": 36,
   "metadata": {},
   "outputs": [
    {
     "data": {
      "text/plain": [
       "<AxesSubplot:>"
      ]
     },
     "execution_count": 36,
     "metadata": {},
     "output_type": "execute_result"
    },
    {
     "data": {
      "image/png": "[encoded data removed]",
      "text/plain": [
       "<Figure size 640x480 with 1 Axes>"
      ]
     },
     "metadata": {},
     "output_type": "display_data"
    }
   ],
   "source": [
    "data_to_remove_outliers['passengers'].value_counts().plot.bar()"
   ]
  },
  {
   "cell_type": "code",
   "execution_count": 37,
   "metadata": {},
   "outputs": [
    {
     "data": {
      "text/plain": [
       "<AxesSubplot:>"
      ]
     },
     "execution_count": 37,
     "metadata": {},
     "output_type": "execute_result"
    },
    {
     "data": {
      "image/png": "[encoded data removed]",
      "text/plain": [
       "<Figure size 640x480 with 1 Axes>"
      ]
     },
     "metadata": {},
     "output_type": "display_data"
    }
   ],
   "source": [
    "data_to_remove_outliers['engine'].plot.box()"
   ]
  },
  {
   "cell_type": "code",
   "execution_count": 38,
   "metadata": {},
   "outputs": [
    {
     "data": {
      "text/plain": [
       "<AxesSubplot:>"
      ]
     },
     "execution_count": 38,
     "metadata": {},
     "output_type": "execute_result"
    },
    {
     "data": {
      "image/png": "[encoded data removed]",
      "text/plain": [
       "<Figure size 640x480 with 1 Axes>"
      ]
     },
     "metadata": {},
     "output_type": "display_data"
    }
   ],
   "source": [
    "data_to_remove_outliers['year'].plot.box()"
   ]
  },
  {
   "cell_type": "code",
   "execution_count": 39,
   "metadata": {},
   "outputs": [
    {
     "data": {
      "text/plain": [
       "<AxesSubplot:>"
      ]
     },
     "execution_count": 39,
     "metadata": {},
     "output_type": "execute_result"
    },
    {
     "data": {
      "image/png": "[encoded data removed]",
      "text/plain": [
       "<Figure size 640x480 with 1 Axes>"
      ]
     },
     "metadata": {},
     "output_type": "display_data"
    }
   ],
   "source": [
    "data_to_remove_outliers['year'][data_to_remove_outliers['year']< 1990].value_counts().plot.bar()"
   ]
  },
  {
   "cell_type": "code",
   "execution_count": 40,
   "metadata": {},
   "outputs": [],
   "source": [
    "# remove outliers with quartiles for ['year', 'meter', 'prev_owners'] features\n",
    "removed_outliers = detect_outlier_quartiles(data_to_remove_outliers, ['year', 'meter', 'prev_owners'])"
   ]
  },
  {
   "cell_type": "code",
   "execution_count": 41,
   "metadata": {},
   "outputs": [
    {
     "data": {
      "text/plain": [
       "array([[<AxesSubplot:title={'center':'year'}>,\n",
       "        <AxesSubplot:title={'center':'prev_owners'}>]], dtype=object)"
      ]
     },
     "execution_count": 41,
     "metadata": {},
     "output_type": "execute_result"
    },
    {
     "data": {
      "image/png": "[encoded data removed]",
      "text/plain": [
       "<Figure size 640x480 with 2 Axes>"
      ]
     },
     "metadata": {},
     "output_type": "display_data"
    }
   ],
   "source": [
    "removed_outliers[['year', 'prev_owners']].hist()"
   ]
  },
  {
   "cell_type": "code",
   "execution_count": 42,
   "metadata": {},
   "outputs": [
    {
     "data": {
      "text/plain": [
       "<AxesSubplot:>"
      ]
     },
     "execution_count": 42,
     "metadata": {},
     "output_type": "execute_result"
    },
    {
     "data": {
      "image/png": "[encoded data removed]",
      "text/plain": [
       "<Figure size 640x480 with 1 Axes>"
      ]
     },
     "metadata": {},
     "output_type": "display_data"
    }
   ],
   "source": [
    "removed_outliers['meter'].hist()"
   ]
  },
  {
   "cell_type": "code",
   "execution_count": 43,
   "metadata": {},
   "outputs": [
    {
     "name": "stderr",
     "output_type": "stream",
     "text": [
      "/var/folders/m1/fg0zsph94pj5b7vblgt01b580000gn/T/ipykernel_11549/4100762915.py:9: UserWarning: Boolean Series key will be reindexed to match DataFrame index.\n",
      "  data = data[new_col >= (threshold*-1)]\n"
     ]
    }
   ],
   "source": [
    "# remove outliers with z-score for ['engine', 'passengers'] features\n",
    "removed_outliers = detect_outlier_zscore(removed_outliers, ['engine', 'passengers'])"
   ]
  },
  {
   "cell_type": "code",
   "execution_count": 44,
   "metadata": {},
   "outputs": [
    {
     "data": {
      "text/plain": [
       "array([[<AxesSubplot:title={'center':'engine'}>,\n",
       "        <AxesSubplot:title={'center':'year'}>],\n",
       "       [<AxesSubplot:title={'center':'passengers'}>,\n",
       "        <AxesSubplot:title={'center':'prev_owners'}>]], dtype=object)"
      ]
     },
     "execution_count": 44,
     "metadata": {},
     "output_type": "execute_result"
    },
    {
     "data": {
      "image/png": "[encoded data removed]",
      "text/plain": [
       "<Figure size 640x480 with 4 Axes>"
      ]
     },
     "metadata": {},
     "output_type": "display_data"
    }
   ],
   "source": [
    "removed_outliers[features].hist()"
   ]
  },
  {
   "cell_type": "code",
   "execution_count": 45,
   "metadata": {},
   "outputs": [
    {
     "data": {
      "text/plain": [
       "prev_owners      0.788942\n",
       "passengers       1.579395\n",
       "engine           0.486822\n",
       "meter            0.909193\n",
       "year            -0.690068\n",
       "                  ...    \n",
       "تجاري            6.949830\n",
       "تدريب سياقة     15.233004\n",
       "حكومي            8.808900\n",
       "خصوصي           -2.241081\n",
       "عمومي            3.317263\n",
       "Length: 93, dtype: float64"
      ]
     },
     "execution_count": 45,
     "metadata": {},
     "output_type": "execute_result"
    }
   ],
   "source": [
    "removed_outliers.skew()"
   ]
  },
  {
   "cell_type": "markdown",
   "metadata": {},
   "source": [
    "# Normalize data "
   ]
  },
  {
   "cell_type": "code",
   "execution_count": 46,
   "metadata": {},
   "outputs": [],
   "source": [
    "# normalize data \n",
    "def normalize_features(data, column_names, normalizer):\n",
    "    normalizer.fit(data[column_names])\n",
    "    normalized_data = normalizer.transform(data[column_names])\n",
    "    # save data back to the data frame\n",
    "    data[column_names] = normalized_data\n",
    "    \n",
    "    return data"
   ]
  },
  {
   "cell_type": "code",
   "execution_count": 47,
   "metadata": {},
   "outputs": [
    {
     "name": "stderr",
     "output_type": "stream",
     "text": [
      "/Users/aleenkmail/Desktop/ML predict car price/.venv/lib/python3.8/site-packages/sklearn/preprocessing/_data.py:3211: RuntimeWarning: overflow encountered in power\n",
      "  out[pos] = (np.power(x[pos] + 1, lmbda) - 1) / lmbda\n",
      "/Users/aleenkmail/Desktop/ML predict car price/.venv/lib/python3.8/site-packages/numpy/core/_methods.py:236: RuntimeWarning: overflow encountered in multiply\n",
      "  x = um.multiply(x, x, out=x)\n",
      "/Users/aleenkmail/Desktop/ML predict car price/.venv/lib/python3.8/site-packages/numpy/core/_methods.py:247: RuntimeWarning: overflow encountered in reduce\n",
      "  ret = umr_sum(x, axis, dtype, out, keepdims=keepdims, where=where)\n"
     ]
    }
   ],
   "source": [
    "# normalize data with PowerTransformer\n",
    "normalized_data = normalize_features(removed_outliers, features, PowerTransformer())"
   ]
  },
  {
   "cell_type": "code",
   "execution_count": 48,
   "metadata": {},
   "outputs": [
    {
     "data": {
      "text/plain": [
       "array([[<AxesSubplot:title={'center':'engine'}>,\n",
       "        <AxesSubplot:title={'center':'meter'}>],\n",
       "       [<AxesSubplot:title={'center':'year'}>,\n",
       "        <AxesSubplot:title={'center':'passengers'}>],\n",
       "       [<AxesSubplot:title={'center':'prev_owners'}>, <AxesSubplot:>]],\n",
       "      dtype=object)"
      ]
     },
     "execution_count": 48,
     "metadata": {},
     "output_type": "execute_result"
    },
    {
     "data": {
      "image/png": "[encoded data removed]",
      "text/plain": [
       "<Figure size 640x480 with 6 Axes>"
      ]
     },
     "metadata": {},
     "output_type": "display_data"
    }
   ],
   "source": [
    "normalized_data[features].hist()"
   ]
  },
  {
   "cell_type": "code",
   "execution_count": 49,
   "metadata": {},
   "outputs": [
    {
     "data": {
      "text/plain": [
       "prev_owners     -0.025924\n",
       "passengers      -0.204063\n",
       "engine           0.211020\n",
       "meter           -0.603324\n",
       "year            -0.439824\n",
       "                  ...    \n",
       "تجاري            6.949830\n",
       "تدريب سياقة     15.233004\n",
       "حكومي            8.808900\n",
       "خصوصي           -2.241081\n",
       "عمومي            3.317263\n",
       "Length: 93, dtype: float64"
      ]
     },
     "execution_count": 49,
     "metadata": {},
     "output_type": "execute_result"
    }
   ],
   "source": [
    "normalized_data.skew()"
   ]
  },
  {
   "cell_type": "code",
   "execution_count": 50,
   "metadata": {},
   "outputs": [],
   "source": [
    "# save dataframe to handeled_data csv file \n",
    "normalized_data.to_csv(\"../csv-data/handeled_data.csv\")"
   ]
  },
  {
   "cell_type": "markdown",
   "metadata": {},
   "source": [
    "# evaluate models"
   ]
  },
  {
   "cell_type": "code",
   "execution_count": 51,
   "metadata": {},
   "outputs": [],
   "source": [
    "# data to use: features  \n",
    "# target : target variables ['price']\n",
    "data_to_use = normalized_data.copy()\n",
    "target = data_to_use['price']\n",
    "data_to_use.drop('price', inplace = True, axis = 1)\n",
    "data_to_use = data_to_use.reset_index(drop=True)"
   ]
  },
  {
   "cell_type": "code",
   "execution_count": 52,
   "metadata": {},
   "outputs": [],
   "source": [
    "# x_train, x_test, y_train, y_test = train_test_split(data_to_use, target, test_size= 0.25, random_state= 41)"
   ]
  },
  {
   "cell_type": "code",
   "execution_count": 53,
   "metadata": {},
   "outputs": [
    {
     "name": "stdout",
     "output_type": "stream",
     "text": [
      "[0.05145019156890718, 0.2530020065852717, 0.3382859991151851, 0.3745978545200106, 0.39745943607913753, 0.41511362655197, 0.4242019348762921, 0.4290087278409871, 0.4352560261187685, 0.4397595411447888, 0.4451814066731803, 0.44806426504969316, 0.4503919844673591, 0.4496573500737773, 0.45181332242186906, 0.454169660426017, 0.4552175963150876, 0.4543219957278584, 0.45407982810987424, 0.4533252756667454, 0.4534759680045662, 0.4528365078430864, 0.4523305648750881, 0.45253764376624367, 0.45179792364937227, 0.45094630034246164, 0.4511655921033097, 0.4508186009373622, 0.45040810424484945]\n"
     ]
    }
   ],
   "source": [
    "# evaluate KNN model \n",
    "# k = 17 return the model with max average of score  = 0.455\n",
    "knn_scores = []\n",
    "for k in range(1,30):   # running for different K values to know which yields the max accuracy. \n",
    "    clf = KNeighborsRegressor(n_neighbors = k,  weights = 'distance')\n",
    "    scores = cross_val_score(clf, data_to_use, target, cv = 10)\n",
    "    knn_scores.append(scores.mean())\n",
    "\n",
    "print(knn_scores)"
   ]
  },
  {
   "cell_type": "code",
   "execution_count": 54,
   "metadata": {},
   "outputs": [
    {
     "data": {
      "text/plain": [
       "0.40000095594612406"
      ]
     },
     "execution_count": 54,
     "metadata": {},
     "output_type": "execute_result"
    }
   ],
   "source": [
    "lasso_score = cross_val_score(Lasso(tol = 1.582e+09 ), data_to_use, target, cv = 10)\n",
    "lasso_score.mean()"
   ]
  },
  {
   "cell_type": "code",
   "execution_count": 55,
   "metadata": {},
   "outputs": [
    {
     "data": {
      "text/plain": [
       "0.04367511175865282"
      ]
     },
     "execution_count": 55,
     "metadata": {},
     "output_type": "execute_result"
    }
   ],
   "source": [
    "dt_score = cross_val_score(DecisionTreeRegressor(random_state=101, max_depth= 20), data_to_use, target, cv = 10)\n",
    "dt_score.mean()"
   ]
  },
  {
   "cell_type": "code",
   "execution_count": 56,
   "metadata": {},
   "outputs": [],
   "source": [
    "# dict with all models to select model with best score\n",
    "models=  { \"ols\": {\"model\": LinearRegression(),\n",
    "                  \"description\":\"orinary least square\"},\n",
    "        \"sgd\": {\"model\": SGDRegressor(),\n",
    "                  \"description\":\"gradient descent\"},\n",
    "\n",
    "        \"poly2\": {\"model\": LinearRegression(), \"degree\" : 2,\n",
    "                  \"description\":\"orinary least square with degree 2\"},\n",
    "         \n",
    "         \"linear_ridge\": {\"model\": Ridge(), \"degree\" : 1,\n",
    "                  \"description\":\"degree 1 with ridge\"},\n",
    "\n",
    "        \"linear_lasso\": {\"model\": Lasso(tol=1.582e+09), \"degree\" : 1,\n",
    "                  \"description\":\"degree 1 with lasso\"},\n",
    "\n",
    "        \"ply2_ridge\": {\"model\": Ridge(), \"degree\" : 2,\n",
    "                  \"description\":\"degree 2 with ridge\"},\n",
    "\n",
    "        \"ply2_lasso\": {\"model\": Lasso(tol=1.582e+09), \"degree\" : 2,\n",
    "                  \"description\":\"degree 2 with lasso\"},\n",
    "        \n",
    "         \"KNN2\": {\"model\": KNeighborsRegressor(n_neighbors = 17,  weights = 'distance'),\n",
    "                  \"description\":\"KNN with k=19\"},\n",
    "\n",
    "        \"DT\": {\"model\": DecisionTreeRegressor(random_state=0),\n",
    "                  \"description\":\"Desicion Tree \"},\n",
    "                 }\n"
   ]
  },
  {
   "cell_type": "code",
   "execution_count": 57,
   "metadata": {},
   "outputs": [],
   "source": [
    "# train model function add score to models dict\n",
    "def train_model(models, x_train, y_train):\n",
    "    \"\"\"\n",
    "    models: dictionary\n",
    "    {\"model_id\":{\"model\":which model, \"description\":\"\"}}\n",
    "    \"\"\"\n",
    "    \n",
    "    # go over all models\n",
    "    for model_id in models:\n",
    "        # train if polynomial\n",
    "        if  models[model_id].get(\"degree\"):\n",
    "\n",
    "            poly = PolynomialFeatures(models[model_id]['degree'])\n",
    "            poly_x_train = poly.fit_transform(x_train)\n",
    "            models[model_id][\"score\"] = cross_val_score(models[model_id]['model'], poly_x_train, y_train, cv = 10).mean()\n",
    "            print(models[model_id])\n",
    "        #train if not polynomial\n",
    "        else:  \n",
    "            models[model_id][\"score\"] = cross_val_score(models[model_id]['model'], x_train, y_train, cv = 10).mean()\n",
    "            print(models[model_id])\n",
    "    # return models"
   ]
  },
  {
   "cell_type": "code",
   "execution_count": 58,
   "metadata": {},
   "outputs": [
    {
     "name": "stdout",
     "output_type": "stream",
     "text": [
      "{'model': LinearRegression(), 'description': 'orinary least square', 'score': -6.646750338824957e+20}\n",
      "{'model': SGDRegressor(), 'description': 'gradient descent', 'score': 0.4420118210817135}\n",
      "{'model': LinearRegression(), 'degree': 2, 'description': 'orinary least square with degree 2', 'score': -1.2001180061407019e+23}\n",
      "{'model': Ridge(), 'degree': 1, 'description': 'degree 1 with ridge', 'score': 0.4471092963376739}\n",
      "{'model': Lasso(tol=1582000000.0), 'degree': 1, 'description': 'degree 1 with lasso', 'score': 0.40000095594612406}\n",
      "{'model': Ridge(), 'degree': 2, 'description': 'degree 2 with ridge', 'score': 0.39910454513977844}\n",
      "{'model': Lasso(tol=1582000000.0), 'degree': 2, 'description': 'degree 2 with lasso', 'score': 0.41092229736156344}\n",
      "{'model': KNeighborsRegressor(n_neighbors=17, weights='distance'), 'description': 'KNN with k=19', 'score': 0.4552175963150876}\n",
      "{'model': DecisionTreeRegressor(random_state=0), 'description': 'Desicion Tree ', 'score': 0.008093955970697408}\n"
     ]
    }
   ],
   "source": [
    "# train models\n",
    "# the best returned score from KNN regressor with K=17\n",
    "models = train_model(models, data_to_use, target)"
   ]
  },
  {
   "cell_type": "code",
   "execution_count": 100,
   "metadata": {},
   "outputs": [],
   "source": [
    "# preprocessing step\n",
    "\n",
    "numeric_transformer = PowerTransformer()\n",
    "categorical_transformer = OneHotEncoder(handle_unknown=\"ignore\")\n",
    "\n",
    "preprocessor = ColumnTransformer(\n",
    "    transformers=[\n",
    "        (\"num\", numeric_transformer, slice(8, 13)),\n",
    "        (\"cat\", categorical_transformer, slice(0,8)),\n",
    "    ])\n"
   ]
  },
  {
   "cell_type": "code",
   "execution_count": 101,
   "metadata": {},
   "outputs": [],
   "source": [
    "# create pipline with KNN model \n",
    "pipline = Pipeline(\n",
    "    steps=[(\"preprocessor\", preprocessor), (\"Regressor\", KNeighborsRegressor(n_neighbors=17))]\n",
    ")"
   ]
  },
  {
   "cell_type": "code",
   "execution_count": 102,
   "metadata": {},
   "outputs": [],
   "source": [
    "# prepare data to fit in pipline and drop null values\n",
    "data_to_train = data_before_encode[all_used_cols].copy()\n",
    "data_to_train.dropna(axis=0, how='any',  inplace=True)"
   ]
  },
  {
   "cell_type": "code",
   "execution_count": 103,
   "metadata": {},
   "outputs": [],
   "source": [
    "# target_variable : price\n",
    "# data_to_train : features \n",
    "target_variable = data_to_train['price']\n",
    "data_to_train.drop('price', inplace = True, axis = 1)\n",
    "data_to_train = data_to_train.reset_index(drop=True)"
   ]
  },
  {
   "cell_type": "code",
   "execution_count": 104,
   "metadata": {},
   "outputs": [
    {
     "data": {
      "text/html": [
       "<div>\n",
       "<style scoped>\n",
       "    .dataframe tbody tr th:only-of-type {\n",
       "        vertical-align: middle;\n",
       "    }\n",
       "\n",
       "    .dataframe tbody tr th {\n",
       "        vertical-align: top;\n",
       "    }\n",
       "\n",
       "    .dataframe thead th {\n",
       "        text-align: right;\n",
       "    }\n",
       "</style>\n",
       "<table border=\"1\" class=\"dataframe\">\n",
       "  <thead>\n",
       "    <tr style=\"text-align: right;\">\n",
       "      <th></th>\n",
       "      <th>color</th>\n",
       "      <th>fueil</th>\n",
       "      <th>license</th>\n",
       "      <th>name</th>\n",
       "      <th>gear</th>\n",
       "      <th>glass</th>\n",
       "      <th>weel_drive</th>\n",
       "      <th>prevـuse</th>\n",
       "      <th>prev_owners</th>\n",
       "      <th>passengers</th>\n",
       "      <th>engine</th>\n",
       "      <th>meter</th>\n",
       "      <th>year</th>\n",
       "    </tr>\n",
       "  </thead>\n",
       "  <tbody>\n",
       "    <tr>\n",
       "      <th>9</th>\n",
       "      <td>أصفر</td>\n",
       "      <td>بنزين</td>\n",
       "      <td>فلسطينية</td>\n",
       "      <td>فولكسفاجن</td>\n",
       "      <td>عادي</td>\n",
       "      <td>يدوي</td>\n",
       "      <td>دفع أمامي</td>\n",
       "      <td>خصوصي</td>\n",
       "      <td>3.0</td>\n",
       "      <td>6</td>\n",
       "      <td>1600</td>\n",
       "      <td>50000</td>\n",
       "      <td>1979</td>\n",
       "    </tr>\n",
       "    <tr>\n",
       "      <th>10</th>\n",
       "      <td>أسود ميتالك</td>\n",
       "      <td>بنزين</td>\n",
       "      <td>فلسطينية</td>\n",
       "      <td>فولكسفاجن</td>\n",
       "      <td>اوتوماتيك</td>\n",
       "      <td>الكتروني</td>\n",
       "      <td>دفع أمامي</td>\n",
       "      <td>خصوصي</td>\n",
       "      <td>3.0</td>\n",
       "      <td>5</td>\n",
       "      <td>1400</td>\n",
       "      <td>180000</td>\n",
       "      <td>2010</td>\n",
       "    </tr>\n",
       "    <tr>\n",
       "      <th>11</th>\n",
       "      <td>أبيض</td>\n",
       "      <td>ديزل</td>\n",
       "      <td>فلسطينية</td>\n",
       "      <td>Dodge</td>\n",
       "      <td>اوتوماتيك</td>\n",
       "      <td>الكتروني</td>\n",
       "      <td>دفع رباعي 4x4</td>\n",
       "      <td>خصوصي</td>\n",
       "      <td>1.0</td>\n",
       "      <td>5</td>\n",
       "      <td>6700</td>\n",
       "      <td>120000</td>\n",
       "      <td>2015</td>\n",
       "    </tr>\n",
       "    <tr>\n",
       "      <th>12</th>\n",
       "      <td>أزرق</td>\n",
       "      <td>ديزل</td>\n",
       "      <td>فلسطينية</td>\n",
       "      <td>سيت</td>\n",
       "      <td>عادي</td>\n",
       "      <td>الكتروني</td>\n",
       "      <td>دفع رباعي 4x4</td>\n",
       "      <td>عمومي</td>\n",
       "      <td>4.0</td>\n",
       "      <td>5</td>\n",
       "      <td>1900</td>\n",
       "      <td>14</td>\n",
       "      <td>2001</td>\n",
       "    </tr>\n",
       "    <tr>\n",
       "      <th>13</th>\n",
       "      <td>ذهبي</td>\n",
       "      <td>بنزين</td>\n",
       "      <td>فلسطينية</td>\n",
       "      <td>هونداي</td>\n",
       "      <td>اوتوماتيك</td>\n",
       "      <td>الكتروني</td>\n",
       "      <td>دفع رباعي 4x4</td>\n",
       "      <td>خصوصي</td>\n",
       "      <td>6.0</td>\n",
       "      <td>5</td>\n",
       "      <td>1400</td>\n",
       "      <td>220000</td>\n",
       "      <td>2007</td>\n",
       "    </tr>\n",
       "    <tr>\n",
       "      <th>...</th>\n",
       "      <td>...</td>\n",
       "      <td>...</td>\n",
       "      <td>...</td>\n",
       "      <td>...</td>\n",
       "      <td>...</td>\n",
       "      <td>...</td>\n",
       "      <td>...</td>\n",
       "      <td>...</td>\n",
       "      <td>...</td>\n",
       "      <td>...</td>\n",
       "      <td>...</td>\n",
       "      <td>...</td>\n",
       "      <td>...</td>\n",
       "    </tr>\n",
       "    <tr>\n",
       "      <th>6859</th>\n",
       "      <td>أحمر</td>\n",
       "      <td>بنزين</td>\n",
       "      <td>فلسطينية</td>\n",
       "      <td>فيات</td>\n",
       "      <td>عادي</td>\n",
       "      <td>يدوي</td>\n",
       "      <td>دفع أمامي</td>\n",
       "      <td>خصوصي</td>\n",
       "      <td>2.0</td>\n",
       "      <td>5</td>\n",
       "      <td>1800</td>\n",
       "      <td>50000</td>\n",
       "      <td>1973</td>\n",
       "    </tr>\n",
       "    <tr>\n",
       "      <th>6860</th>\n",
       "      <td>أسود</td>\n",
       "      <td>ديزل</td>\n",
       "      <td>فلسطينية</td>\n",
       "      <td>هونداي</td>\n",
       "      <td>اوتوماتيك</td>\n",
       "      <td>الكتروني</td>\n",
       "      <td>دفع أمامي</td>\n",
       "      <td>خصوصي</td>\n",
       "      <td>2.0</td>\n",
       "      <td>7</td>\n",
       "      <td>2000</td>\n",
       "      <td>140</td>\n",
       "      <td>2016</td>\n",
       "    </tr>\n",
       "    <tr>\n",
       "      <th>6861</th>\n",
       "      <td>فضي</td>\n",
       "      <td>بنزين</td>\n",
       "      <td>فلسطينية</td>\n",
       "      <td>هونداي</td>\n",
       "      <td>اوتوماتيك</td>\n",
       "      <td>الكتروني</td>\n",
       "      <td>دفع أمامي</td>\n",
       "      <td>خصوصي</td>\n",
       "      <td>1.0</td>\n",
       "      <td>5</td>\n",
       "      <td>1400</td>\n",
       "      <td>40</td>\n",
       "      <td>2017</td>\n",
       "    </tr>\n",
       "    <tr>\n",
       "      <th>6862</th>\n",
       "      <td>أبيض</td>\n",
       "      <td>بنزين</td>\n",
       "      <td>فلسطينية</td>\n",
       "      <td>سكودا</td>\n",
       "      <td>اوتوماتيك</td>\n",
       "      <td>الكتروني</td>\n",
       "      <td>دفع أمامي</td>\n",
       "      <td>خصوصي</td>\n",
       "      <td>2.0</td>\n",
       "      <td>5</td>\n",
       "      <td>1200</td>\n",
       "      <td>60</td>\n",
       "      <td>2015</td>\n",
       "    </tr>\n",
       "    <tr>\n",
       "      <th>6863</th>\n",
       "      <td>سكني</td>\n",
       "      <td>بنزين</td>\n",
       "      <td>فلسطينية</td>\n",
       "      <td>سيت</td>\n",
       "      <td>عادي</td>\n",
       "      <td>الكتروني</td>\n",
       "      <td>دفع أمامي</td>\n",
       "      <td>خصوصي</td>\n",
       "      <td>1.0</td>\n",
       "      <td>5</td>\n",
       "      <td>1400</td>\n",
       "      <td>82</td>\n",
       "      <td>2016</td>\n",
       "    </tr>\n",
       "  </tbody>\n",
       "</table>\n",
       "<p>6677 rows × 13 columns</p>\n",
       "</div>"
      ],
      "text/plain": [
       "             color   fueil    license       name        gear      glass  \\\n",
       "9            أصفر   بنزين   فلسطينية   فولكسفاجن       عادي       يدوي    \n",
       "10    أسود ميتالك   بنزين   فلسطينية   فولكسفاجن  اوتوماتيك   الكتروني    \n",
       "11           أبيض    ديزل   فلسطينية       Dodge  اوتوماتيك   الكتروني    \n",
       "12           أزرق    ديزل   فلسطينية         سيت       عادي   الكتروني    \n",
       "13           ذهبي   بنزين   فلسطينية      هونداي  اوتوماتيك   الكتروني    \n",
       "...            ...     ...        ...        ...         ...        ...   \n",
       "6859         أحمر   بنزين   فلسطينية        فيات       عادي       يدوي    \n",
       "6860         أسود    ديزل   فلسطينية      هونداي  اوتوماتيك   الكتروني    \n",
       "6861          فضي   بنزين   فلسطينية      هونداي  اوتوماتيك   الكتروني    \n",
       "6862         أبيض   بنزين   فلسطينية       سكودا  اوتوماتيك   الكتروني    \n",
       "6863         سكني   بنزين   فلسطينية         سيت       عادي   الكتروني    \n",
       "\n",
       "          weel_drive prevـuse  prev_owners  passengers  engine   meter  year  \n",
       "9         دفع أمامي    خصوصي           3.0           6    1600   50000  1979  \n",
       "10        دفع أمامي    خصوصي           3.0           5    1400  180000  2010  \n",
       "11    دفع رباعي 4x4    خصوصي           1.0           5    6700  120000  2015  \n",
       "12    دفع رباعي 4x4    عمومي           4.0           5    1900      14  2001  \n",
       "13    دفع رباعي 4x4    خصوصي           6.0           5    1400  220000  2007  \n",
       "...              ...      ...          ...         ...     ...     ...   ...  \n",
       "6859      دفع أمامي    خصوصي           2.0           5    1800   50000  1973  \n",
       "6860      دفع أمامي    خصوصي           2.0           7    2000     140  2016  \n",
       "6861      دفع أمامي    خصوصي           1.0           5    1400      40  2017  \n",
       "6862      دفع أمامي    خصوصي           2.0           5    1200      60  2015  \n",
       "6863      دفع أمامي    خصوصي           1.0           5    1400      82  2016  \n",
       "\n",
       "[6677 rows x 13 columns]"
      ]
     },
     "execution_count": 104,
     "metadata": {},
     "output_type": "execute_result"
    }
   ],
   "source": [
    "data_to_train"
   ]
  },
  {
   "cell_type": "code",
   "execution_count": 105,
   "metadata": {},
   "outputs": [
    {
     "name": "stderr",
     "output_type": "stream",
     "text": [
      "/Users/aleenkmail/Desktop/ML predict car price/.venv/lib/python3.8/site-packages/sklearn/preprocessing/_data.py:3211: RuntimeWarning: overflow encountered in power\n",
      "  out[pos] = (np.power(x[pos] + 1, lmbda) - 1) / lmbda\n",
      "/Users/aleenkmail/Desktop/ML predict car price/.venv/lib/python3.8/site-packages/numpy/core/_methods.py:236: RuntimeWarning: overflow encountered in multiply\n",
      "  x = um.multiply(x, x, out=x)\n",
      "/Users/aleenkmail/Desktop/ML predict car price/.venv/lib/python3.8/site-packages/numpy/core/_methods.py:247: RuntimeWarning: overflow encountered in reduce\n",
      "  ret = umr_sum(x, axis, dtype, out, keepdims=keepdims, where=where)\n"
     ]
    },
    {
     "data": {
      "text/html": [
       "<style>#sk-container-id-5 {color: black;background-color: white;}#sk-container-id-5 pre{padding: 0;}#sk-container-id-5 div.sk-toggleable {background-color: white;}#sk-container-id-5 label.sk-toggleable__label {cursor: pointer;display: block;width: 100%;margin-bottom: 0;padding: 0.3em;box-sizing: border-box;text-align: center;}#sk-container-id-5 label.sk-toggleable__label-arrow:before {content: \"▸\";float: left;margin-right: 0.25em;color: #696969;}#sk-container-id-5 label.sk-toggleable__label-arrow:hover:before {color: black;}#sk-container-id-5 div.sk-estimator:hover label.sk-toggleable__label-arrow:before {color: black;}#sk-container-id-5 div.sk-toggleable__content {max-height: 0;max-width: 0;overflow: hidden;text-align: left;background-color: #f0f8ff;}#sk-container-id-5 div.sk-toggleable__content pre {margin: 0.2em;color: black;border-radius: 0.25em;background-color: #f0f8ff;}#sk-container-id-5 input.sk-toggleable__control:checked~div.sk-toggleable__content {max-height: 200px;max-width: 100%;overflow: auto;}#sk-container-id-5 input.sk-toggleable__control:checked~label.sk-toggleable__label-arrow:before {content: \"▾\";}#sk-container-id-5 div.sk-estimator input.sk-toggleable__control:checked~label.sk-toggleable__label {background-color: #d4ebff;}#sk-container-id-5 div.sk-label input.sk-toggleable__control:checked~label.sk-toggleable__label {background-color: #d4ebff;}#sk-container-id-5 input.sk-hidden--visually {border: 0;clip: rect(1px 1px 1px 1px);clip: rect(1px, 1px, 1px, 1px);height: 1px;margin: -1px;overflow: hidden;padding: 0;position: absolute;width: 1px;}#sk-container-id-5 div.sk-estimator {font-family: monospace;background-color: #f0f8ff;border: 1px dotted black;border-radius: 0.25em;box-sizing: border-box;margin-bottom: 0.5em;}#sk-container-id-5 div.sk-estimator:hover {background-color: #d4ebff;}#sk-container-id-5 div.sk-parallel-item::after {content: \"\";width: 100%;border-bottom: 1px solid gray;flex-grow: 1;}#sk-container-id-5 div.sk-label:hover label.sk-toggleable__label {background-color: #d4ebff;}#sk-container-id-5 div.sk-serial::before {content: \"\";position: absolute;border-left: 1px solid gray;box-sizing: border-box;top: 0;bottom: 0;left: 50%;z-index: 0;}#sk-container-id-5 div.sk-serial {display: flex;flex-direction: column;align-items: center;background-color: white;padding-right: 0.2em;padding-left: 0.2em;position: relative;}#sk-container-id-5 div.sk-item {position: relative;z-index: 1;}#sk-container-id-5 div.sk-parallel {display: flex;align-items: stretch;justify-content: center;background-color: white;position: relative;}#sk-container-id-5 div.sk-item::before, #sk-container-id-5 div.sk-parallel-item::before {content: \"\";position: absolute;border-left: 1px solid gray;box-sizing: border-box;top: 0;bottom: 0;left: 50%;z-index: -1;}#sk-container-id-5 div.sk-parallel-item {display: flex;flex-direction: column;z-index: 1;position: relative;background-color: white;}#sk-container-id-5 div.sk-parallel-item:first-child::after {align-self: flex-end;width: 50%;}#sk-container-id-5 div.sk-parallel-item:last-child::after {align-self: flex-start;width: 50%;}#sk-container-id-5 div.sk-parallel-item:only-child::after {width: 0;}#sk-container-id-5 div.sk-dashed-wrapped {border: 1px dashed gray;margin: 0 0.4em 0.5em 0.4em;box-sizing: border-box;padding-bottom: 0.4em;background-color: white;}#sk-container-id-5 div.sk-label label {font-family: monospace;font-weight: bold;display: inline-block;line-height: 1.2em;}#sk-container-id-5 div.sk-label-container {text-align: center;}#sk-container-id-5 div.sk-container {/* jupyter's `normalize.less` sets `[hidden] { display: none; }` but bootstrap.min.css set `[hidden] { display: none !important; }` so we also need the `!important` here to be able to override the default hidden behavior on the sphinx rendered scikit-learn.org. See: https://github.com/scikit-learn/scikit-learn/issues/21755 */display: inline-block !important;position: relative;}#sk-container-id-5 div.sk-text-repr-fallback {display: none;}</style><div id=\"sk-container-id-5\" class=\"sk-top-container\"><div class=\"sk-text-repr-fallback\"><pre>Pipeline(steps=[(&#x27;preprocessor&#x27;,\n",
       "                 ColumnTransformer(transformers=[(&#x27;num&#x27;, PowerTransformer(),\n",
       "                                                  slice(8, 13, None)),\n",
       "                                                 (&#x27;cat&#x27;,\n",
       "                                                  OneHotEncoder(handle_unknown=&#x27;ignore&#x27;),\n",
       "                                                  slice(0, 8, None))])),\n",
       "                (&#x27;Regressor&#x27;, KNeighborsRegressor(n_neighbors=17))])</pre><b>In a Jupyter environment, please rerun this cell to show the HTML representation or trust the notebook. <br />On GitHub, the HTML representation is unable to render, please try loading this page with nbviewer.org.</b></div><div class=\"sk-container\" hidden><div class=\"sk-item sk-dashed-wrapped\"><div class=\"sk-label-container\"><div class=\"sk-label sk-toggleable\"><input class=\"sk-toggleable__control sk-hidden--visually\" id=\"sk-estimator-id-29\" type=\"checkbox\" ><label for=\"sk-estimator-id-29\" class=\"sk-toggleable__label sk-toggleable__label-arrow\">Pipeline</label><div class=\"sk-toggleable__content\"><pre>Pipeline(steps=[(&#x27;preprocessor&#x27;,\n",
       "                 ColumnTransformer(transformers=[(&#x27;num&#x27;, PowerTransformer(),\n",
       "                                                  slice(8, 13, None)),\n",
       "                                                 (&#x27;cat&#x27;,\n",
       "                                                  OneHotEncoder(handle_unknown=&#x27;ignore&#x27;),\n",
       "                                                  slice(0, 8, None))])),\n",
       "                (&#x27;Regressor&#x27;, KNeighborsRegressor(n_neighbors=17))])</pre></div></div></div><div class=\"sk-serial\"><div class=\"sk-item sk-dashed-wrapped\"><div class=\"sk-label-container\"><div class=\"sk-label sk-toggleable\"><input class=\"sk-toggleable__control sk-hidden--visually\" id=\"sk-estimator-id-30\" type=\"checkbox\" ><label for=\"sk-estimator-id-30\" class=\"sk-toggleable__label sk-toggleable__label-arrow\">preprocessor: ColumnTransformer</label><div class=\"sk-toggleable__content\"><pre>ColumnTransformer(transformers=[(&#x27;num&#x27;, PowerTransformer(), slice(8, 13, None)),\n",
       "                                (&#x27;cat&#x27;, OneHotEncoder(handle_unknown=&#x27;ignore&#x27;),\n",
       "                                 slice(0, 8, None))])</pre></div></div></div><div class=\"sk-parallel\"><div class=\"sk-parallel-item\"><div class=\"sk-item\"><div class=\"sk-label-container\"><div class=\"sk-label sk-toggleable\"><input class=\"sk-toggleable__control sk-hidden--visually\" id=\"sk-estimator-id-31\" type=\"checkbox\" ><label for=\"sk-estimator-id-31\" class=\"sk-toggleable__label sk-toggleable__label-arrow\">num</label><div class=\"sk-toggleable__content\"><pre>slice(8, 13, None)</pre></div></div></div><div class=\"sk-serial\"><div class=\"sk-item\"><div class=\"sk-estimator sk-toggleable\"><input class=\"sk-toggleable__control sk-hidden--visually\" id=\"sk-estimator-id-32\" type=\"checkbox\" ><label for=\"sk-estimator-id-32\" class=\"sk-toggleable__label sk-toggleable__label-arrow\">PowerTransformer</label><div class=\"sk-toggleable__content\"><pre>PowerTransformer()</pre></div></div></div></div></div></div><div class=\"sk-parallel-item\"><div class=\"sk-item\"><div class=\"sk-label-container\"><div class=\"sk-label sk-toggleable\"><input class=\"sk-toggleable__control sk-hidden--visually\" id=\"sk-estimator-id-33\" type=\"checkbox\" ><label for=\"sk-estimator-id-33\" class=\"sk-toggleable__label sk-toggleable__label-arrow\">cat</label><div class=\"sk-toggleable__content\"><pre>slice(0, 8, None)</pre></div></div></div><div class=\"sk-serial\"><div class=\"sk-item\"><div class=\"sk-estimator sk-toggleable\"><input class=\"sk-toggleable__control sk-hidden--visually\" id=\"sk-estimator-id-34\" type=\"checkbox\" ><label for=\"sk-estimator-id-34\" class=\"sk-toggleable__label sk-toggleable__label-arrow\">OneHotEncoder</label><div class=\"sk-toggleable__content\"><pre>OneHotEncoder(handle_unknown=&#x27;ignore&#x27;)</pre></div></div></div></div></div></div></div></div><div class=\"sk-item\"><div class=\"sk-estimator sk-toggleable\"><input class=\"sk-toggleable__control sk-hidden--visually\" id=\"sk-estimator-id-35\" type=\"checkbox\" ><label for=\"sk-estimator-id-35\" class=\"sk-toggleable__label sk-toggleable__label-arrow\">KNeighborsRegressor</label><div class=\"sk-toggleable__content\"><pre>KNeighborsRegressor(n_neighbors=17)</pre></div></div></div></div></div></div></div>"
      ],
      "text/plain": [
       "Pipeline(steps=[('preprocessor',\n",
       "                 ColumnTransformer(transformers=[('num', PowerTransformer(),\n",
       "                                                  slice(8, 13, None)),\n",
       "                                                 ('cat',\n",
       "                                                  OneHotEncoder(handle_unknown='ignore'),\n",
       "                                                  slice(0, 8, None))])),\n",
       "                ('Regressor', KNeighborsRegressor(n_neighbors=17))])"
      ]
     },
     "execution_count": 105,
     "metadata": {},
     "output_type": "execute_result"
    }
   ],
   "source": [
    "# fit data \n",
    "pipline.fit(data_to_train, target_variable)"
   ]
  },
  {
   "cell_type": "code",
   "execution_count": 106,
   "metadata": {},
   "outputs": [],
   "source": [
    "# pickle pipline \n",
    "pickle.dump(pipline, open('../pip_model.pkl','wb'))"
   ]
  }
 ],
 "metadata": {
  "kernelspec": {
   "display_name": "Python 3.8.8 ('.venv': venv)",
   "language": "python",
   "name": "python3"
  },
  "language_info": {
   "codemirror_mode": {
    "name": "ipython",
    "version": 3
   },
   "file_extension": ".py",
   "mimetype": "text/x-python",
   "name": "python",
   "nbconvert_exporter": "python",
   "pygments_lexer": "ipython3",
   "version": "3.8.8"
  },
  "orig_nbformat": 4,
  "vscode": {
   "interpreter": {
    "hash": "7614b11521d95fec3699aa4c893beb41ddac6de5a24d5137705514730058662e"
   }
  }
 },
 "nbformat": 4,
 "nbformat_minor": 2
}
